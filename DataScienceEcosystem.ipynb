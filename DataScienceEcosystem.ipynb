{
 "cells": [
  {
   "cell_type": "markdown",
   "id": "ebc9d378-d913-4f8f-9ba2-b40a5f1ed982",
   "metadata": {},
   "source": [
    "\"Ejercicio 2: Crear celda de markdown con título del cuaderno\"\n",
    "# Data Science Tools and Ecosystem"
   ]
  },
  {
   "cell_type": "markdown",
   "id": "73251cbd-748f-4a7a-9d32-9d3d844ba8c2",
   "metadata": {},
   "source": [
    "\"Ejercicio 3: Crear una celda de Markdown para una introducción\"\n",
    "\n",
    "**_In this notebook, Data Science Tools and Ecosystem are summarized._**"
   ]
  },
  {
   "cell_type": "markdown",
   "id": "91c278bd-c93a-4130-a788-d5069f9addb7",
   "metadata": {},
   "source": [
    "\"Ejercicio 10: Insertar una celda de Markdown para enumerar los objetivos\"\n",
    "\n",
    "**Objectives:**\n",
    "- Learn about libraries and datasets\n",
    "- Usa of programming languages\n",
    "- Become familiar with Data Science Tools."
   ]
  },
  {
   "cell_type": "markdown",
   "id": "ff89e15c-2c52-446a-b8e3-74e183521d8e",
   "metadata": {},
   "source": [
    "\"Ejercicio 4: Crear una celda de Markdown para enumerar los lenguajes de la ciencia de datos\"\n",
    "\n",
    "_Some of the popular languages that Data Scientists use are:_"
   ]
  },
  {
   "cell_type": "markdown",
   "id": "c8249a01-8d50-4dcd-b648-8536e126cd93",
   "metadata": {},
   "source": [
    "1. Phyton\n",
    "2. R\n",
    "3. SQL"
   ]
  },
  {
   "cell_type": "markdown",
   "id": "37e69fdc-d65c-4808-8ced-f501fddfbe3d",
   "metadata": {},
   "source": [
    "\"Ejercicio 5: Crear una celda de Markdown para enumerar las bibliotecas de ciencia de datos\"\n",
    "\n",
    "*Some of the commonly used libraries used by Data Scientists include:*"
   ]
  },
  {
   "cell_type": "markdown",
   "id": "f00691e3-726e-438f-934e-b1b089e1e554",
   "metadata": {},
   "source": [
    "- Pandas\n",
    "- Numpy\n",
    "- Matplolip"
   ]
  },
  {
   "cell_type": "markdown",
   "id": "4a8e88db-0015-4c2b-bb7b-5abfd7bea330",
   "metadata": {},
   "source": [
    "\"Ejercicio 6: Crear una celda de Markdown con una tabla de herramientas de ciencia de datos\"\n",
    "\n",
    "|Data Science Tools|\n",
    "|------------------|\n",
    "|Jupyter Notebook|\n",
    "|R Studio|\n",
    "|Apache Spark|"
   ]
  },
  {
   "cell_type": "markdown",
   "id": "0eba4311-0aac-4d69-a2d5-7f1e3dbb420c",
   "metadata": {},
   "source": [
    "\"Ejercicio 7 - Crear una celda de Markdown que presente ejemplos de expresiones aritméticas\"\n",
    "\n",
    "### Below are a few examples of evaluating arithmetic expressions in Python"
   ]
  },
  {
   "cell_type": "markdown",
   "id": "880026f5-d102-4fc2-ac61-8cc391e6b7e9",
   "metadata": {},
   "source": [
    "\"Ejercicio 8 - Crear una celda de código para multiplicar y sumar números\"\n",
    "\n",
    "**This a simple arithmetic expression to mutiply then add integers**"
   ]
  },
  {
   "cell_type": "code",
   "execution_count": 11,
   "id": "17924df6-b4d7-4e50-9da9-a86e683f95e2",
   "metadata": {},
   "outputs": [
    {
     "data": {
      "text/plain": [
       "17"
      ]
     },
     "execution_count": 11,
     "metadata": {},
     "output_type": "execute_result"
    }
   ],
   "source": [
    "(3*4)+5"
   ]
  },
  {
   "cell_type": "markdown",
   "id": "2faee27c-c1cf-4a44-b84a-2c2b0a52f270",
   "metadata": {},
   "source": [
    "\"Ejercicio 9 - Crear una celda de código para convertir minutos a horas\"\n",
    "\n",
    "**This will convert 200 minutes to hours by diving by 60**"
   ]
  },
  {
   "cell_type": "code",
   "execution_count": 12,
   "id": "37ec0049-66e2-4e95-8a22-70f72bf8d92d",
   "metadata": {},
   "outputs": [
    {
     "data": {
      "text/plain": [
       "3.3333333333333335"
      ]
     },
     "execution_count": 12,
     "metadata": {},
     "output_type": "execute_result"
    }
   ],
   "source": [
    "200/60"
   ]
  },
  {
   "cell_type": "markdown",
   "id": "7b79b306-386f-4e6b-bf5d-0aa7dc6c4d03",
   "metadata": {},
   "source": [
    "\"Ejercicio 11 - Crear una celda de Markdown para indicar el nombre del autor\"\n",
    "\n",
    "## Author\n",
    "Paula TF"
   ]
  },
  {
   "cell_type": "code",
   "execution_count": null,
   "id": "d66f6436-85cc-4078-b996-8af15a227ac8",
   "metadata": {},
   "outputs": [],
   "source": []
  },
  {
   "cell_type": "code",
   "execution_count": null,
   "id": "367eb342-b368-4a4e-af9e-c59334362e20",
   "metadata": {},
   "outputs": [],
   "source": []
  }
 ],
 "metadata": {
  "kernelspec": {
   "display_name": "Python 3 (ipykernel)",
   "language": "python",
   "name": "python3"
  },
  "language_info": {
   "codemirror_mode": {
    "name": "ipython",
    "version": 3
   },
   "file_extension": ".py",
   "mimetype": "text/x-python",
   "name": "python",
   "nbconvert_exporter": "python",
   "pygments_lexer": "ipython3",
   "version": "3.12.8"
  }
 },
 "nbformat": 4,
 "nbformat_minor": 5
}
